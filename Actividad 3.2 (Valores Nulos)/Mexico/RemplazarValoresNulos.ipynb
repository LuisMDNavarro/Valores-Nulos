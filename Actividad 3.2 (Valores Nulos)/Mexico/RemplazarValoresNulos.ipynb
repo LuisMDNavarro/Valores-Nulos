{
 "cells": [
  {
   "cell_type": "code",
   "execution_count": 41,
   "metadata": {},
   "outputs": [],
   "source": [
    "#Importamos las librerias pandas\n",
    "import pandas as pd"
   ]
  },
  {
   "cell_type": "code",
   "execution_count": 42,
   "metadata": {},
   "outputs": [],
   "source": [
    "#Carga desde un archivo .csv sin indice\n",
    "data = pd.read_csv(\"MexicoCity_DistritoFederal_Mexico.csv\")\n",
    "columnas_seleccionadas = [\n",
    "    \"id\", \"host_name\", \"host_since\", \"host_location\", \"host_response_time\",\n",
    "    \"host_response_rate\", \"host_acceptance_rate\", \"host_is_superhost\",\n",
    "    \"host_neighbourhood\", \"host_total_listings_count\", \"host_verifications\",\n",
    "    \"host_has_profile_pic\", \"host_identity_verified\", \"neighbourhood\",\n",
    "    \"neighbourhood_cleansed\", \"latitude\", \"longitude\", \"property_type\",\n",
    "    \"room_type\", \"accommodates\", \"bathrooms\", \"bathrooms_text\", \"bedrooms\",\n",
    "    \"beds\", \"amenities\", \"price\", \"minimum_nights\", \"maximum_nights\",\n",
    "    \"minimum_nights_avg_ntm\", \"maximum_nights_avg_ntm\", \"has_availability\",\n",
    "    \"availability_30\", \"availability_60\", \"availability_90\",\n",
    "    \"availability_365\", \"number_of_reviews\", \"number_of_reviews_ltm\",\n",
    "    \"number_of_reviews_l30d\", \"first_review\", \"last_review\",\n",
    "    \"review_scores_rating\", \"review_scores_accuracy\", \"review_scores_cleanliness\",\n",
    "    \"review_scores_checkin\", \"review_scores_communication\", \"review_scores_location\",\n",
    "    \"review_scores_value\", \"license\", \"instant_bookable\", \"reviews_per_month\"\n",
    "]\n",
    "df_50 = data[columnas_seleccionadas]\n",
    "#Convertir filtro a CSV con indice id\n",
    "df_50.to_csv(\"50_MexicoCity_DistritoFederal_Mexico.csv\", index=0)"
   ]
  },
  {
   "cell_type": "code",
   "execution_count": 43,
   "metadata": {},
   "outputs": [
    {
     "data": {
      "text/plain": [
       "id                                 0\n",
       "host_name                          0\n",
       "host_since                         0\n",
       "host_location                   5441\n",
       "host_response_time              3622\n",
       "host_response_rate              3622\n",
       "host_acceptance_rate            2869\n",
       "host_is_superhost               1509\n",
       "host_neighbourhood             12915\n",
       "host_total_listings_count          0\n",
       "host_verifications                 0\n",
       "host_has_profile_pic               0\n",
       "host_identity_verified             0\n",
       "neighbourhood                  10895\n",
       "neighbourhood_cleansed             0\n",
       "latitude                           0\n",
       "longitude                          0\n",
       "property_type                      0\n",
       "room_type                          0\n",
       "accommodates                       0\n",
       "bathrooms                       2915\n",
       "bathrooms_text                    26\n",
       "bedrooms                         866\n",
       "beds                            2953\n",
       "amenities                          0\n",
       "price                           2927\n",
       "minimum_nights                     0\n",
       "maximum_nights                     0\n",
       "minimum_nights_avg_ntm             0\n",
       "maximum_nights_avg_ntm             0\n",
       "has_availability                1008\n",
       "availability_30                    0\n",
       "availability_60                    0\n",
       "availability_90                    0\n",
       "availability_365                   0\n",
       "number_of_reviews                  0\n",
       "number_of_reviews_ltm              0\n",
       "number_of_reviews_l30d             0\n",
       "first_review                    3656\n",
       "last_review                     3656\n",
       "review_scores_rating            3656\n",
       "review_scores_accuracy          3657\n",
       "review_scores_cleanliness       3657\n",
       "review_scores_checkin           3657\n",
       "review_scores_communication     3657\n",
       "review_scores_location          3657\n",
       "review_scores_value             3657\n",
       "license                        26582\n",
       "instant_bookable                   0\n",
       "reviews_per_month               3656\n",
       "dtype: int64"
      ]
     },
     "execution_count": 43,
     "metadata": {},
     "output_type": "execute_result"
    }
   ],
   "source": [
    "#Carga desde un archivo .csv sin indice\n",
    "data2 = pd.read_csv(\"50_MexicoCity_DistritoFederal_Mexico.csv\")\n",
    "#Identificar valores nulos por columna\n",
    "valores_nulos = data2.isnull().sum()\n",
    "valores_nulos"
   ]
  },
  {
   "cell_type": "code",
   "execution_count": 44,
   "metadata": {},
   "outputs": [],
   "source": [
    "#Realizamos una copia del dataframe\n",
    "data3 = data2. copy()"
   ]
  },
  {
   "cell_type": "markdown",
   "metadata": {},
   "source": [
    "**Para las siguientes variables se sustituyeron los valores nulos por un string en concreto**\n",
    "(host_location,\n",
    "host_response_time,\n",
    "host_response_rate,\n",
    "host_acceptance_rate,\n",
    "host_neighbourhood,\n",
    "neighbourhood,\n",
    "first_review,\n",
    "last_review,\n",
    "license,\n",
    "has_availability,\n",
    "bathrooms_text)"
   ]
  },
  {
   "cell_type": "code",
   "execution_count": 45,
   "metadata": {},
   "outputs": [],
   "source": [
    "data3[\"host_location\"] = data3[\"host_location\"].fillna(\"No location\")\n",
    "data3[\"host_response_time\"] = data3[\"host_response_time\"].fillna(\"Not defined\")\n",
    "data3[\"host_response_rate\"] = data3[\"host_response_rate\"].fillna(\"Not defined\")\n",
    "data3[\"host_acceptance_rate\"] = data3[\"host_acceptance_rate\"].fillna(\"Not defined\")\n",
    "data3[\"host_is_superhost\"] = data3[\"host_is_superhost\"].fillna(\"Unknown\")\n",
    "data3[\"host_neighbourhood\"] = data3[\"host_neighbourhood\"].fillna(\"Not specified\")\n",
    "data3[\"neighbourhood\"] = data3[\"neighbourhood\"].fillna(\"No specified\")\n",
    "data3[\"first_review\"] = data3[\"first_review\"].fillna(\"31/12/2030\")\n",
    "data3[\"last_review\"] = data3[\"last_review\"].fillna(\"31/12/2030\")\n",
    "data3[\"license\"] = data3[\"license\"].fillna(\"Without license\")\n",
    "data3[\"has_availability\"] = data3[\"has_availability\"].fillna(\"Unknown\")\n",
    "data3[\"bathrooms_text\"] = data3[\"bathrooms_text\"].fillna(\"No specified\")"
   ]
  },
  {
   "cell_type": "markdown",
   "metadata": {},
   "source": [
    "**Para las siguientes variables se sustituyeron los valores nulos por un valor numerico en concreto**\n",
    "(bathrooms,\n",
    "beds,\n",
    "bedrooms)"
   ]
  },
  {
   "cell_type": "code",
   "execution_count": 46,
   "metadata": {},
   "outputs": [],
   "source": [
    "data3[\"bathrooms\"] = data3[\"bathrooms\"].fillna(404)\n",
    "data3[\"beds\"] = data3[\"beds\"].fillna(404)\n",
    "data3[\"bedrooms\"] = data3[\"bedrooms\"].fillna(404)"
   ]
  },
  {
   "cell_type": "markdown",
   "metadata": {},
   "source": [
    "**Para las siguientes variables se sustituyeron los valores nulos por la mediana**\n",
    "(review_scores_location,\n",
    "review_scores_value,\n",
    "review_scores_cleanliness)"
   ]
  },
  {
   "cell_type": "code",
   "execution_count": 47,
   "metadata": {},
   "outputs": [],
   "source": [
    "data3[\"review_scores_location\"] = data3[\"review_scores_location\"].fillna(round(data3[\"review_scores_location\"].median(), 1))\n",
    "data3[\"review_scores_value\"] = data3[\"review_scores_value\"].fillna(round(data3[\"review_scores_value\"].median(), 1))\n",
    "data3[\"review_scores_cleanliness\"] = data3[\"review_scores_cleanliness\"].fillna(round(data3[\"review_scores_cleanliness\"].median(), 1))"
   ]
  },
  {
   "cell_type": "markdown",
   "metadata": {},
   "source": [
    "**Para las siguientes variables se sustituyeron los valores nulos por la media o promedio**\n",
    "(review_scores_rating,\n",
    "review_scores_checkin)"
   ]
  },
  {
   "cell_type": "code",
   "execution_count": 48,
   "metadata": {},
   "outputs": [],
   "source": [
    "data3[\"review_scores_rating\"] = data3[\"review_scores_rating\"].fillna(round(data3[\"review_scores_rating\"].mean(), 1))\n",
    "data3[\"review_scores_checkin\"] = data3[\"review_scores_checkin\"].fillna(round(data3[\"review_scores_checkin\"].mean(), 1))"
   ]
  },
  {
   "cell_type": "markdown",
   "metadata": {},
   "source": [
    "**Para las siguientes variables se sustituyeron los valores nulos por un valor no nulo hacia delante \"forward  fill\"**\n",
    "(review_scores_accuracy,\n",
    "price)\n",
    "**Ya que seguia dejando valores nulos se combino con  \"backward  fill\"**"
   ]
  },
  {
   "cell_type": "code",
   "execution_count": 49,
   "metadata": {},
   "outputs": [
    {
     "name": "stderr",
     "output_type": "stream",
     "text": [
      "C:\\Users\\lmanu\\AppData\\Local\\Temp\\ipykernel_11352\\2465773355.py:1: FutureWarning: Series.fillna with 'method' is deprecated and will raise in a future version. Use obj.ffill() or obj.bfill() instead.\n",
      "  data3[\"review_scores_accuracy\"] = data3[\"review_scores_accuracy\"].fillna(method = \"ffill\").fillna(method = \"bfill\")\n",
      "C:\\Users\\lmanu\\AppData\\Local\\Temp\\ipykernel_11352\\2465773355.py:2: FutureWarning: Series.fillna with 'method' is deprecated and will raise in a future version. Use obj.ffill() or obj.bfill() instead.\n",
      "  data3[\"price\"] = data3[\"price\"].fillna(method = \"ffill\")\n"
     ]
    }
   ],
   "source": [
    "data3[\"review_scores_accuracy\"] = data3[\"review_scores_accuracy\"].fillna(method = \"ffill\").fillna(method = \"bfill\")\n",
    "data3[\"price\"] = data3[\"price\"].fillna(method = \"ffill\")"
   ]
  },
  {
   "cell_type": "markdown",
   "metadata": {},
   "source": [
    "**Para las siguientes variables se sustituyeron los valores nulos por un valor no nulo hacia atras \"backward  fill\"**\n",
    "(reviews_per_month,\n",
    "review_scores_communication)\n",
    "**Ya que seguia dejando valores nulos se combino con  \"forward  fill\"**"
   ]
  },
  {
   "cell_type": "code",
   "execution_count": 50,
   "metadata": {},
   "outputs": [
    {
     "name": "stderr",
     "output_type": "stream",
     "text": [
      "C:\\Users\\lmanu\\AppData\\Local\\Temp\\ipykernel_11352\\2711094657.py:1: FutureWarning: Series.fillna with 'method' is deprecated and will raise in a future version. Use obj.ffill() or obj.bfill() instead.\n",
      "  data3[\"reviews_per_month\"] = data3[\"reviews_per_month\"].fillna(method = \"bfill\").fillna(method = \"ffill\")\n",
      "C:\\Users\\lmanu\\AppData\\Local\\Temp\\ipykernel_11352\\2711094657.py:2: FutureWarning: Series.fillna with 'method' is deprecated and will raise in a future version. Use obj.ffill() or obj.bfill() instead.\n",
      "  data3[\"review_scores_communication\"] = data3[\"review_scores_communication\"].fillna(method = \"bfill\").fillna(method = \"ffill\")\n"
     ]
    }
   ],
   "source": [
    "data3[\"reviews_per_month\"] = data3[\"reviews_per_month\"].fillna(method = \"bfill\").fillna(method = \"ffill\")\n",
    "data3[\"review_scores_communication\"] = data3[\"review_scores_communication\"].fillna(method = \"bfill\").fillna(method = \"ffill\")"
   ]
  },
  {
   "cell_type": "code",
   "execution_count": 51,
   "metadata": {},
   "outputs": [
    {
     "data": {
      "text/plain": [
       "id                             0\n",
       "host_name                      0\n",
       "host_since                     0\n",
       "host_location                  0\n",
       "host_response_time             0\n",
       "host_response_rate             0\n",
       "host_acceptance_rate           0\n",
       "host_is_superhost              0\n",
       "host_neighbourhood             0\n",
       "host_total_listings_count      0\n",
       "host_verifications             0\n",
       "host_has_profile_pic           0\n",
       "host_identity_verified         0\n",
       "neighbourhood                  0\n",
       "neighbourhood_cleansed         0\n",
       "latitude                       0\n",
       "longitude                      0\n",
       "property_type                  0\n",
       "room_type                      0\n",
       "accommodates                   0\n",
       "bathrooms                      0\n",
       "bathrooms_text                 0\n",
       "bedrooms                       0\n",
       "beds                           0\n",
       "amenities                      0\n",
       "price                          0\n",
       "minimum_nights                 0\n",
       "maximum_nights                 0\n",
       "minimum_nights_avg_ntm         0\n",
       "maximum_nights_avg_ntm         0\n",
       "has_availability               0\n",
       "availability_30                0\n",
       "availability_60                0\n",
       "availability_90                0\n",
       "availability_365               0\n",
       "number_of_reviews              0\n",
       "number_of_reviews_ltm          0\n",
       "number_of_reviews_l30d         0\n",
       "first_review                   0\n",
       "last_review                    0\n",
       "review_scores_rating           0\n",
       "review_scores_accuracy         0\n",
       "review_scores_cleanliness      0\n",
       "review_scores_checkin          0\n",
       "review_scores_communication    0\n",
       "review_scores_location         0\n",
       "review_scores_value            0\n",
       "license                        0\n",
       "instant_bookable               0\n",
       "reviews_per_month              0\n",
       "dtype: int64"
      ]
     },
     "execution_count": 51,
     "metadata": {},
     "output_type": "execute_result"
    }
   ],
   "source": [
    "#Identificar valores nulos por columna\n",
    "valores_nulos = data3.isnull().sum()\n",
    "valores_nulos"
   ]
  },
  {
   "cell_type": "code",
   "execution_count": 52,
   "metadata": {},
   "outputs": [],
   "source": [
    "#Convertir DataFrame a CSV\n",
    "data3.to_csv(\"50_sin_nulos_MexicoCity_DistritoFederal_Mexico.csv\", index=0)"
   ]
  },
  {
   "cell_type": "code",
   "execution_count": 53,
   "metadata": {},
   "outputs": [
    {
     "data": {
      "text/plain": [
       "np.int64(0)"
      ]
     },
     "execution_count": 53,
     "metadata": {},
     "output_type": "execute_result"
    }
   ],
   "source": [
    "#Identificar valores nulos por dataframe\n",
    "valores_nulos = data3.isnull().sum().sum()\n",
    "valores_nulos"
   ]
  }
 ],
 "metadata": {
  "kernelspec": {
   "display_name": "Python 3",
   "language": "python",
   "name": "python3"
  },
  "language_info": {
   "codemirror_mode": {
    "name": "ipython",
    "version": 3
   },
   "file_extension": ".py",
   "mimetype": "text/x-python",
   "name": "python",
   "nbconvert_exporter": "python",
   "pygments_lexer": "ipython3",
   "version": "3.13.1"
  }
 },
 "nbformat": 4,
 "nbformat_minor": 2
}
