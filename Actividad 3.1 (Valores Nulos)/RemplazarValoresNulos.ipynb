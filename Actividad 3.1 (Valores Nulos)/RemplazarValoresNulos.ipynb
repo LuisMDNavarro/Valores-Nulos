{
 "cells": [
  {
   "cell_type": "code",
   "execution_count": 27,
   "metadata": {},
   "outputs": [],
   "source": [
    "#Importamos las librerias pandas\n",
    "import pandas as pd"
   ]
  },
  {
   "cell_type": "code",
   "execution_count": 28,
   "metadata": {},
   "outputs": [
    {
     "data": {
      "text/plain": [
       "indice_tiempo                           0\n",
       "ventas_precios_corrientes               0\n",
       "ventas_precios_constantes               0\n",
       "ventas_totales_canal_venta              0\n",
       "salon_ventas                            6\n",
       "canales_on_line                         0\n",
       "ventas_totales_medio_pago               0\n",
       "efectivo                                0\n",
       "tarjetas_debito                         1\n",
       "tarjetas_credito                        7\n",
       "otros_medios                            1\n",
       "ventas_totales_grupo_articulos          0\n",
       "subtotal_ventas_alimentos_bebidas      10\n",
       "bebidas                                 1\n",
       "almacen                                 2\n",
       "panaderia                               1\n",
       "lacteos                                 1\n",
       "carnes                                  1\n",
       "verduleria_fruteria                     1\n",
       "alimentos_preparados_rotiseria          1\n",
       "articulos_limpieza_perfumeria           0\n",
       "indumentaria_calzado_textiles_hogar     2\n",
       "electronicos_articulos_hogar            3\n",
       "otros                                   4\n",
       "dtype: int64"
      ]
     },
     "execution_count": 28,
     "metadata": {},
     "output_type": "execute_result"
    }
   ],
   "source": [
    "#Carga desde un archivo .csv sin indice\n",
    "data = pd.read_csv(\"Ventas_totales.csv\")\n",
    "#Identificar valores nulos por columna\n",
    "valores_nulos = data.isnull().sum()\n",
    "valores_nulos"
   ]
  },
  {
   "cell_type": "code",
   "execution_count": 29,
   "metadata": {},
   "outputs": [],
   "source": [
    "#Realizamos una copia del dataframe\n",
    "data2 = data. copy()"
   ]
  },
  {
   "cell_type": "code",
   "execution_count": 30,
   "metadata": {},
   "outputs": [],
   "source": [
    "#Para la variable salon_ventas se sustituyeron los valores nulos con la media o promedio\n",
    "data2[\"salon_ventas\"] = data2[\"salon_ventas\"].fillna(round(data2[\"salon_ventas\"].mean(), 1))"
   ]
  },
  {
   "cell_type": "code",
   "execution_count": 31,
   "metadata": {},
   "outputs": [],
   "source": [
    "#Para la variable tarjetas_debito se sustituyeron los valores nulos por un valor numerico en concreto \"0000000000\"\n",
    "data2[\"tarjetas_debito\"] = data2[\"tarjetas_debito\"].fillna(0000000000)"
   ]
  },
  {
   "cell_type": "code",
   "execution_count": 32,
   "metadata": {},
   "outputs": [],
   "source": [
    "#Para la variable tarjetas_credito se sustituyeron los valores nulos por un valor numerico en concreto \"1111111111\"\n",
    "data2[\"tarjetas_credito\"] = data2[\"tarjetas_credito\"].fillna(1111111111)"
   ]
  },
  {
   "cell_type": "code",
   "execution_count": 33,
   "metadata": {},
   "outputs": [],
   "source": [
    "#Para la variable otros_medios se sustituyeron los valores nulos por un valor numerico en concreto \"3333333333\"\n",
    "data2[\"otros_medios\"] = data2[\"otros_medios\"].fillna(3333333333)"
   ]
  },
  {
   "cell_type": "code",
   "execution_count": 34,
   "metadata": {},
   "outputs": [],
   "source": [
    "#Para la variable subtotal_ventas_alimentos_bebidas se sustituyeron los valores nulos con la mediana\n",
    "data2[\"subtotal_ventas_alimentos_bebidas\"] = data2[\"subtotal_ventas_alimentos_bebidas\"].fillna(round(data2[\"subtotal_ventas_alimentos_bebidas\"].median(), 1))"
   ]
  },
  {
   "cell_type": "code",
   "execution_count": 35,
   "metadata": {},
   "outputs": [],
   "source": [
    "#Para la variable bebidas se sustituyeron los valores nulos con la media o promedio\n",
    "data2[\"bebidas\"] = data2[\"bebidas\"].fillna(round(data2[\"bebidas\"].mean(), 1))"
   ]
  },
  {
   "cell_type": "code",
   "execution_count": 36,
   "metadata": {},
   "outputs": [
    {
     "name": "stderr",
     "output_type": "stream",
     "text": [
      "C:\\Users\\lmanu\\AppData\\Local\\Temp\\ipykernel_14428\\2667166811.py:2: FutureWarning: Series.fillna with 'method' is deprecated and will raise in a future version. Use obj.ffill() or obj.bfill() instead.\n",
      "  data2[\"almacen\"] = data2[\"almacen\"].fillna(method = \"ffill\")\n"
     ]
    }
   ],
   "source": [
    "#Para la variable almacen se sustituyeron los valores nulos por un valor no nulo hacia delante \"forward  fill\"\n",
    "data2[\"almacen\"] = data2[\"almacen\"].fillna(method = \"ffill\")"
   ]
  },
  {
   "cell_type": "code",
   "execution_count": 37,
   "metadata": {},
   "outputs": [],
   "source": [
    "#Para la variable panaderia se sustituyeron los valores nulos con la mediana\n",
    "data2[\"panaderia\"] = data2[\"panaderia\"].fillna(round(data2[\"panaderia\"].median(), 1))"
   ]
  },
  {
   "cell_type": "code",
   "execution_count": 38,
   "metadata": {},
   "outputs": [
    {
     "name": "stderr",
     "output_type": "stream",
     "text": [
      "C:\\Users\\lmanu\\AppData\\Local\\Temp\\ipykernel_14428\\3251240862.py:2: FutureWarning: Series.fillna with 'method' is deprecated and will raise in a future version. Use obj.ffill() or obj.bfill() instead.\n",
      "  data2[\"lacteos\"] = data2[\"lacteos\"].fillna(method = \"ffill\")\n"
     ]
    }
   ],
   "source": [
    "#Para la variable lacteos se sustituyeron los valores nulos por un valor no nulo hacia delante \"forward  fill\"\n",
    "data2[\"lacteos\"] = data2[\"lacteos\"].fillna(method = \"ffill\")"
   ]
  },
  {
   "cell_type": "code",
   "execution_count": 39,
   "metadata": {},
   "outputs": [
    {
     "name": "stderr",
     "output_type": "stream",
     "text": [
      "C:\\Users\\lmanu\\AppData\\Local\\Temp\\ipykernel_14428\\2996619276.py:2: FutureWarning: Series.fillna with 'method' is deprecated and will raise in a future version. Use obj.ffill() or obj.bfill() instead.\n",
      "  data2[\"carnes\"] = data2[\"carnes\"].fillna(method = \"bfill\")\n"
     ]
    }
   ],
   "source": [
    "#Para la variable carnes se sustituyeron los valores nulos por un valor no nulo hacia atras \"backward  fill\"\n",
    "data2[\"carnes\"] = data2[\"carnes\"].fillna(method = \"bfill\")"
   ]
  },
  {
   "cell_type": "code",
   "execution_count": 40,
   "metadata": {},
   "outputs": [],
   "source": [
    "#Para la variable verduleria_fruteria se sustituyeron los valores nulos con la mediana\n",
    "data2[\"verduleria_fruteria\"] = data2[\"verduleria_fruteria\"].fillna(round(data2[\"verduleria_fruteria\"].median(), 1))"
   ]
  },
  {
   "cell_type": "code",
   "execution_count": 41,
   "metadata": {},
   "outputs": [],
   "source": [
    "#Para la variable alimentos_preparados_rotiseria se sustituyeron los valores nulos con la media o promedio\n",
    "data2[\"alimentos_preparados_rotiseria\"] = data2[\"alimentos_preparados_rotiseria\"].fillna(round(data2[\"alimentos_preparados_rotiseria\"].mean(), 1))"
   ]
  },
  {
   "cell_type": "code",
   "execution_count": 42,
   "metadata": {},
   "outputs": [
    {
     "name": "stderr",
     "output_type": "stream",
     "text": [
      "C:\\Users\\lmanu\\AppData\\Local\\Temp\\ipykernel_14428\\1040453168.py:2: FutureWarning: Series.fillna with 'method' is deprecated and will raise in a future version. Use obj.ffill() or obj.bfill() instead.\n",
      "  data2[\"indumentaria_calzado_textiles_hogar\"] = data2[\"indumentaria_calzado_textiles_hogar\"].fillna(method = \"bfill\")\n"
     ]
    }
   ],
   "source": [
    "#Para la variable indumentaria_calzado_textiles_hogar se sustituyeron los valores nulos por un valor no nulo hacia atras \"backward  fill\"\n",
    "data2[\"indumentaria_calzado_textiles_hogar\"] = data2[\"indumentaria_calzado_textiles_hogar\"].fillna(method = \"bfill\")"
   ]
  },
  {
   "cell_type": "code",
   "execution_count": 43,
   "metadata": {},
   "outputs": [
    {
     "name": "stderr",
     "output_type": "stream",
     "text": [
      "C:\\Users\\lmanu\\AppData\\Local\\Temp\\ipykernel_14428\\1286464862.py:2: FutureWarning: Series.fillna with 'method' is deprecated and will raise in a future version. Use obj.ffill() or obj.bfill() instead.\n",
      "  data2[\"electronicos_articulos_hogar\"] = data2[\"electronicos_articulos_hogar\"].fillna(method = \"ffill\")\n"
     ]
    }
   ],
   "source": [
    "#Para la variable electronicos_articulos_hogar se sustituyeron los valores nulos por un valor no nulo hacia delante \"forward  fill\"\n",
    "data2[\"electronicos_articulos_hogar\"] = data2[\"electronicos_articulos_hogar\"].fillna(method = \"ffill\")"
   ]
  },
  {
   "cell_type": "code",
   "execution_count": 44,
   "metadata": {},
   "outputs": [
    {
     "name": "stderr",
     "output_type": "stream",
     "text": [
      "C:\\Users\\lmanu\\AppData\\Local\\Temp\\ipykernel_14428\\3263678562.py:2: FutureWarning: Series.fillna with 'method' is deprecated and will raise in a future version. Use obj.ffill() or obj.bfill() instead.\n",
      "  data2[\"otros\"] = data2[\"otros\"].fillna(method = \"bfill\")\n"
     ]
    }
   ],
   "source": [
    "#Para la variable otros se sustituyeron los valores nulos por un valor no nulo hacia atras \"backward  fill\"\n",
    "data2[\"otros\"] = data2[\"otros\"].fillna(method = \"bfill\")"
   ]
  },
  {
   "cell_type": "code",
   "execution_count": 45,
   "metadata": {},
   "outputs": [
    {
     "data": {
      "text/plain": [
       "indice_tiempo                          0\n",
       "ventas_precios_corrientes              0\n",
       "ventas_precios_constantes              0\n",
       "ventas_totales_canal_venta             0\n",
       "salon_ventas                           0\n",
       "canales_on_line                        0\n",
       "ventas_totales_medio_pago              0\n",
       "efectivo                               0\n",
       "tarjetas_debito                        0\n",
       "tarjetas_credito                       0\n",
       "otros_medios                           0\n",
       "ventas_totales_grupo_articulos         0\n",
       "subtotal_ventas_alimentos_bebidas      0\n",
       "bebidas                                0\n",
       "almacen                                0\n",
       "panaderia                              0\n",
       "lacteos                                0\n",
       "carnes                                 0\n",
       "verduleria_fruteria                    0\n",
       "alimentos_preparados_rotiseria         0\n",
       "articulos_limpieza_perfumeria          0\n",
       "indumentaria_calzado_textiles_hogar    0\n",
       "electronicos_articulos_hogar           0\n",
       "otros                                  0\n",
       "dtype: int64"
      ]
     },
     "execution_count": 45,
     "metadata": {},
     "output_type": "execute_result"
    }
   ],
   "source": [
    "#Identificar valores nulos por columna\n",
    "valores_nulos = data2.isnull().sum()\n",
    "valores_nulos"
   ]
  },
  {
   "cell_type": "code",
   "execution_count": 46,
   "metadata": {},
   "outputs": [],
   "source": [
    "#Convertir DataFrame a CSV\n",
    "data2.to_csv(\"Ventas_totales_sin_nulos.csv\")"
   ]
  },
  {
   "cell_type": "code",
   "execution_count": 47,
   "metadata": {},
   "outputs": [
    {
     "data": {
      "text/plain": [
       "np.int64(0)"
      ]
     },
     "execution_count": 47,
     "metadata": {},
     "output_type": "execute_result"
    }
   ],
   "source": [
    "#Identificar valores nulos por dataframe\n",
    "valores_nulos = data2.isnull().sum().sum()\n",
    "valores_nulos"
   ]
  }
 ],
 "metadata": {
  "kernelspec": {
   "display_name": "Python 3",
   "language": "python",
   "name": "python3"
  },
  "language_info": {
   "codemirror_mode": {
    "name": "ipython",
    "version": 3
   },
   "file_extension": ".py",
   "mimetype": "text/x-python",
   "name": "python",
   "nbconvert_exporter": "python",
   "pygments_lexer": "ipython3",
   "version": "3.13.1"
  }
 },
 "nbformat": 4,
 "nbformat_minor": 2
}
